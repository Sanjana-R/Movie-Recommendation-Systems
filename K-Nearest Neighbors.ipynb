{
 "cells": [
  {
   "cell_type": "code",
   "execution_count": 2,
   "metadata": {},
   "outputs": [
    {
     "name": "stderr",
     "output_type": "stream",
     "text": [
      "c:\\users\\sanja\\appdata\\local\\programs\\python\\python38-32\\lib\\site-packages\\fuzzywuzzy\\fuzz.py:11: UserWarning: Using slow pure-python SequenceMatcher. Install python-Levenshtein to remove this warning\n",
      "  warnings.warn('Using slow pure-python SequenceMatcher. Install python-Levenshtein to remove this warning')\n"
     ]
    }
   ],
   "source": [
    "import pandas as pd\n",
    "from scipy.sparse import csr_matrix\n",
    "from sklearn.neighbors import NearestNeighbors\n",
    "from fuzzywuzzy import process"
   ]
  },
  {
   "cell_type": "code",
   "execution_count": 3,
   "metadata": {},
   "outputs": [],
   "source": [
    "userurl=r\"C:\\Users\\sanja\\OneDrive\\Documents\\Data Analytics\\Project\\ml-100k\\u.data\"\n",
    "movurl=r\"C:\\Users\\sanja\\OneDrive\\Documents\\Data Analytics\\Project\\ml-100k\\u.item\""
   ]
  },
  {
   "cell_type": "code",
   "execution_count": 4,
   "metadata": {},
   "outputs": [
    {
     "data": {
      "text/html": [
       "<div>\n",
       "<style scoped>\n",
       "    .dataframe tbody tr th:only-of-type {\n",
       "        vertical-align: middle;\n",
       "    }\n",
       "\n",
       "    .dataframe tbody tr th {\n",
       "        vertical-align: top;\n",
       "    }\n",
       "\n",
       "    .dataframe thead th {\n",
       "        text-align: right;\n",
       "    }\n",
       "</style>\n",
       "<table border=\"1\" class=\"dataframe\">\n",
       "  <thead>\n",
       "    <tr style=\"text-align: right;\">\n",
       "      <th></th>\n",
       "      <th>movieId</th>\n",
       "      <th>title</th>\n",
       "    </tr>\n",
       "  </thead>\n",
       "  <tbody>\n",
       "    <tr>\n",
       "      <th>0</th>\n",
       "      <td>1</td>\n",
       "      <td>Toy Story (1995)</td>\n",
       "    </tr>\n",
       "    <tr>\n",
       "      <th>1</th>\n",
       "      <td>2</td>\n",
       "      <td>GoldenEye (1995)</td>\n",
       "    </tr>\n",
       "    <tr>\n",
       "      <th>2</th>\n",
       "      <td>3</td>\n",
       "      <td>Four Rooms (1995)</td>\n",
       "    </tr>\n",
       "    <tr>\n",
       "      <th>3</th>\n",
       "      <td>4</td>\n",
       "      <td>Get Shorty (1995)</td>\n",
       "    </tr>\n",
       "    <tr>\n",
       "      <th>4</th>\n",
       "      <td>5</td>\n",
       "      <td>Copycat (1995)</td>\n",
       "    </tr>\n",
       "  </tbody>\n",
       "</table>\n",
       "</div>"
      ],
      "text/plain": [
       "   movieId              title\n",
       "0        1   Toy Story (1995)\n",
       "1        2   GoldenEye (1995)\n",
       "2        3  Four Rooms (1995)\n",
       "3        4  Get Shorty (1995)\n",
       "4        5     Copycat (1995)"
      ]
     },
     "execution_count": 4,
     "metadata": {},
     "output_type": "execute_result"
    }
   ],
   "source": [
    "movcol=['movieId','title']\n",
    "df_movies = pd.read_csv(movurl,names=movcol,sep='|',encoding='latin-1', usecols=['movieId', 'title'],\n",
    "            dtype={'movieId': 'int32', 'title': 'str'})\n",
    "df_movies.head()"
   ]
  },
  {
   "cell_type": "code",
   "execution_count": 5,
   "metadata": {
    "scrolled": true
   },
   "outputs": [
    {
     "data": {
      "text/html": [
       "<div>\n",
       "<style scoped>\n",
       "    .dataframe tbody tr th:only-of-type {\n",
       "        vertical-align: middle;\n",
       "    }\n",
       "\n",
       "    .dataframe tbody tr th {\n",
       "        vertical-align: top;\n",
       "    }\n",
       "\n",
       "    .dataframe thead th {\n",
       "        text-align: right;\n",
       "    }\n",
       "</style>\n",
       "<table border=\"1\" class=\"dataframe\">\n",
       "  <thead>\n",
       "    <tr style=\"text-align: right;\">\n",
       "      <th></th>\n",
       "      <th>userId</th>\n",
       "      <th>movieId</th>\n",
       "      <th>rating</th>\n",
       "    </tr>\n",
       "  </thead>\n",
       "  <tbody>\n",
       "    <tr>\n",
       "      <th>0</th>\n",
       "      <td>196</td>\n",
       "      <td>242</td>\n",
       "      <td>3.0</td>\n",
       "    </tr>\n",
       "    <tr>\n",
       "      <th>1</th>\n",
       "      <td>186</td>\n",
       "      <td>302</td>\n",
       "      <td>3.0</td>\n",
       "    </tr>\n",
       "    <tr>\n",
       "      <th>2</th>\n",
       "      <td>22</td>\n",
       "      <td>377</td>\n",
       "      <td>1.0</td>\n",
       "    </tr>\n",
       "    <tr>\n",
       "      <th>3</th>\n",
       "      <td>244</td>\n",
       "      <td>51</td>\n",
       "      <td>2.0</td>\n",
       "    </tr>\n",
       "    <tr>\n",
       "      <th>4</th>\n",
       "      <td>166</td>\n",
       "      <td>346</td>\n",
       "      <td>1.0</td>\n",
       "    </tr>\n",
       "  </tbody>\n",
       "</table>\n",
       "</div>"
      ],
      "text/plain": [
       "   userId  movieId  rating\n",
       "0     196      242     3.0\n",
       "1     186      302     3.0\n",
       "2      22      377     1.0\n",
       "3     244       51     2.0\n",
       "4     166      346     1.0"
      ]
     },
     "execution_count": 5,
     "metadata": {},
     "output_type": "execute_result"
    }
   ],
   "source": [
    "usercol=['userId','movieId','rating']\n",
    "df_ratings = pd.read_csv(userurl,names=usercol,sep='\\t',encoding='latin-1', usecols=['userId', 'movieId', 'rating'],\n",
    "            dtype={'userId': 'int32', 'movieId': 'int32', 'rating': 'float32'})\n",
    "df_ratings.head()"
   ]
  },
  {
   "cell_type": "code",
   "execution_count": 6,
   "metadata": {},
   "outputs": [],
   "source": [
    "movies_users=df_ratings.pivot(index='movieId', columns='userId',values='rating').fillna(0)\n",
    "mat_movies_users=csr_matrix(movies_users.values)"
   ]
  },
  {
   "cell_type": "code",
   "execution_count": 7,
   "metadata": {},
   "outputs": [],
   "source": [
    "model_knn= NearestNeighbors(metric='cosine', algorithm='brute', n_neighbors=20)"
   ]
  },
  {
   "cell_type": "code",
   "execution_count": 8,
   "metadata": {},
   "outputs": [
    {
     "data": {
      "text/plain": [
       "NearestNeighbors(algorithm='brute', leaf_size=30, metric='cosine',\n",
       "                 metric_params=None, n_jobs=None, n_neighbors=20, p=2,\n",
       "                 radius=1.0)"
      ]
     },
     "execution_count": 8,
     "metadata": {},
     "output_type": "execute_result"
    }
   ],
   "source": [
    "model_knn.fit(mat_movies_users)"
   ]
  },
  {
   "cell_type": "code",
   "execution_count": 9,
   "metadata": {},
   "outputs": [
    {
     "name": "stdout",
     "output_type": "stream",
     "text": [
      "Movie Selected:  Dead Man Walking (1995) Index:  8\n",
      "Searching for recommendations.....\n",
      "8                                     NaN\n",
      "99                           Fargo (1996)\n",
      "275              Leaving Las Vegas (1995)\n",
      "126                 Godfather, The (1972)\n",
      "6                   Twelve Monkeys (1995)\n",
      "236                  Jerry Maguire (1996)\n",
      "507    People vs. Larry Flynt, The (1996)\n",
      "49                       Star Wars (1977)\n",
      "123                      Lone Star (1996)\n",
      "0                        Toy Story (1995)\n",
      "97       Silence of the Lambs, The (1991)\n",
      "63       Shawshank Redemption, The (1994)\n",
      "11             Usual Suspects, The (1995)\n",
      "55                    Pulp Fiction (1994)\n",
      "317               Schindler's List (1993)\n",
      "116                      Rock, The (1996)\n",
      "14              Mr. Holland's Opus (1995)\n",
      "57                       Quiz Show (1994)\n",
      "285           English Patient, The (1996)\n",
      "13                     Postino, Il (1994)\n",
      "Name: title, dtype: object\n"
     ]
    }
   ],
   "source": [
    "\n",
    "def recommender(movie_name, data, model, n_recommendations ):\n",
    "    model.fit(data)\n",
    "    idx=process.extractOne(movie_name, df_movies['title'])[2]\n",
    "    print('Movie Selected: ',df_movies['title'][idx], 'Index: ',idx)\n",
    "    print('Searching for recommendations.....')\n",
    "    distances, indices=model.kneighbors(data[idx], n_neighbors=n_recommendations)\n",
    "    for i in indices:\n",
    "        print(df_movies['title'][i].where(i!=idx))\n",
    "    \n",
    "recommender('Dead Man Walking (1995)', mat_movies_users, model_knn,20)"
   ]
  },
  {
   "cell_type": "code",
   "execution_count": 10,
   "metadata": {},
   "outputs": [
    {
     "name": "stdout",
     "output_type": "stream",
     "text": [
      "Movie Selected:  Pulp Fiction (1994) Index:  55\n",
      "Searching for recommendations.....\n",
      "55                                           NaN\n",
      "97              Silence of the Lambs, The (1991)\n",
      "173               Raiders of the Lost Ark (1981)\n",
      "78                          Fugitive, The (1993)\n",
      "11                    Usual Suspects, The (1995)\n",
      "203                    Back to the Future (1985)\n",
      "171              Empire Strikes Back, The (1980)\n",
      "194                       Terminator, The (1984)\n",
      "95             Terminator 2: Judgment Day (1991)\n",
      "10                          Seven (Se7en) (1995)\n",
      "233                                  Jaws (1975)\n",
      "209    Indiana Jones and the Last Crusade (1989)\n",
      "182                                 Alien (1979)\n",
      "167       Monty Python and the Holy Grail (1974)\n",
      "49                              Star Wars (1977)\n",
      "63              Shawshank Redemption, The (1994)\n",
      "68                           Forrest Gump (1994)\n",
      "181                            GoodFellas (1990)\n",
      "172                   Princess Bride, The (1987)\n",
      "175                                Aliens (1986)\n",
      "Name: title, dtype: object\n"
     ]
    }
   ],
   "source": [
    "recommender('Pulp Fiction', mat_movies_users, model_knn,20)"
   ]
  },
  {
   "cell_type": "code",
   "execution_count": 11,
   "metadata": {},
   "outputs": [
    {
     "name": "stdout",
     "output_type": "stream",
     "text": [
      "Movie Selected:  Aliens (1986) Index:  175\n",
      "Searching for recommendations.....\n",
      "175                                          NaN\n",
      "182                                 Alien (1979)\n",
      "194                       Terminator, The (1984)\n",
      "173               Raiders of the Lost Ark (1981)\n",
      "95             Terminator 2: Judgment Day (1991)\n",
      "97              Silence of the Lambs, The (1991)\n",
      "227          Star Trek: The Wrath of Khan (1982)\n",
      "171              Empire Strikes Back, The (1980)\n",
      "88                           Blade Runner (1982)\n",
      "78                          Fugitive, The (1993)\n",
      "55                           Pulp Fiction (1994)\n",
      "233                                  Jaws (1975)\n",
      "209    Indiana Jones and the Last Crusade (1989)\n",
      "172                   Princess Bride, The (1987)\n",
      "81                          Jurassic Park (1993)\n",
      "143                              Die Hard (1988)\n",
      "229         Star Trek IV: The Voyage Home (1986)\n",
      "264             Hunt for Red October, The (1990)\n",
      "49                              Star Wars (1977)\n",
      "203                    Back to the Future (1985)\n",
      "Name: title, dtype: object\n"
     ]
    }
   ],
   "source": [
    "recommender('Aliens', mat_movies_users, model_knn,20)"
   ]
  },
  {
   "cell_type": "code",
   "execution_count": 12,
   "metadata": {},
   "outputs": [
    {
     "name": "stdout",
     "output_type": "stream",
     "text": [
      "Movie Selected:  Toy Story (1995) Index:  0\n",
      "Searching for recommendations.....\n",
      "0                                               NaN\n",
      "49                                 Star Wars (1977)\n",
      "180                       Return of the Jedi (1983)\n",
      "120                   Independence Day (ID4) (1996)\n",
      "116                                Rock, The (1996)\n",
      "404                      Mission: Impossible (1996)\n",
      "150    Willy Wonka and the Chocolate Factory (1971)\n",
      "221                 Star Trek: First Contact (1996)\n",
      "99                                     Fargo (1996)\n",
      "236                            Jerry Maguire (1996)\n",
      "173                  Raiders of the Lost Ark (1981)\n",
      "6                             Twelve Monkeys (1995)\n",
      "117                                  Twister (1996)\n",
      "171                 Empire Strikes Back, The (1980)\n",
      "27                                 Apollo 13 (1995)\n",
      "256                             Men in Black (1997)\n",
      "203                       Back to the Future (1985)\n",
      "68                              Forrest Gump (1994)\n",
      "94                                   Aladdin (1992)\n",
      "78                             Fugitive, The (1993)\n",
      "Name: title, dtype: object\n"
     ]
    }
   ],
   "source": [
    "recommender('Toy Story', mat_movies_users, model_knn,20)"
   ]
  },
  {
   "cell_type": "code",
   "execution_count": 13,
   "metadata": {},
   "outputs": [
    {
     "name": "stdout",
     "output_type": "stream",
     "text": [
      "Movie Selected:  Aladdin (1992) Index:  94\n",
      "Searching for recommendations.....\n",
      "94                                           NaN\n",
      "70                         Lion King, The (1994)\n",
      "587                  Beauty and the Beast (1991)\n",
      "81                          Jurassic Park (1993)\n",
      "203                    Back to the Future (1985)\n",
      "171              Empire Strikes Back, The (1980)\n",
      "173               Raiders of the Lost Ark (1981)\n",
      "27                              Apollo 13 (1995)\n",
      "98        Snow White and the Seven Dwarfs (1937)\n",
      "422            E.T. the Extra-Terrestrial (1982)\n",
      "201                         Groundhog Day (1993)\n",
      "567                                 Speed (1994)\n",
      "209    Indiana Jones and the Last Crusade (1989)\n",
      "160                               Top Gun (1986)\n",
      "68                           Forrest Gump (1994)\n",
      "227          Star Trek: The Wrath of Khan (1982)\n",
      "78                          Fugitive, The (1993)\n",
      "172                   Princess Bride, The (1987)\n",
      "392                        Mrs. Doubtfire (1993)\n",
      "384                             True Lies (1994)\n",
      "Name: title, dtype: object\n"
     ]
    }
   ],
   "source": [
    "recommender('Aladdin', mat_movies_users, model_knn,20)"
   ]
  },
  {
   "cell_type": "code",
   "execution_count": 14,
   "metadata": {},
   "outputs": [
    {
     "name": "stdout",
     "output_type": "stream",
     "text": [
      "Movie Selected:  Top Gun (1986) Index:  160\n",
      "Searching for recommendations.....\n",
      "160                                          NaN\n",
      "81                          Jurassic Park (1993)\n",
      "384                             True Lies (1994)\n",
      "567                                 Speed (1994)\n",
      "549            Die Hard: With a Vengeance (1995)\n",
      "402                                Batman (1989)\n",
      "229         Star Trek IV: The Voyage Home (1986)\n",
      "225                            Die Hard 2 (1990)\n",
      "203                    Back to the Future (1985)\n",
      "565              Clear and Present Danger (1994)\n",
      "194                       Terminator, The (1984)\n",
      "173               Raiders of the Lost Ark (1981)\n",
      "95             Terminator 2: Judgment Day (1991)\n",
      "68                           Forrest Gump (1994)\n",
      "171              Empire Strikes Back, The (1980)\n",
      "264             Hunt for Red October, The (1990)\n",
      "209    Indiana Jones and the Last Crusade (1989)\n",
      "227          Star Trek: The Wrath of Khan (1982)\n",
      "78                          Fugitive, The (1993)\n",
      "21                             Braveheart (1995)\n",
      "Name: title, dtype: object\n"
     ]
    }
   ],
   "source": [
    "recommender('Top Gun', mat_movies_users, model_knn,20)"
   ]
  },
  {
   "cell_type": "code",
   "execution_count": 15,
   "metadata": {},
   "outputs": [
    {
     "name": "stdout",
     "output_type": "stream",
     "text": [
      "Movie Selected:  Fargo (1996) Index:  99\n",
      "Searching for recommendations.....\n",
      "99                                              NaN\n",
      "6                             Twelve Monkeys (1995)\n",
      "49                                 Star Wars (1977)\n",
      "126                           Godfather, The (1972)\n",
      "55                              Pulp Fiction (1994)\n",
      "97                 Silence of the Lambs, The (1991)\n",
      "0                                  Toy Story (1995)\n",
      "180                       Return of the Jedi (1983)\n",
      "236                            Jerry Maguire (1996)\n",
      "275                        Leaving Las Vegas (1995)\n",
      "8                           Dead Man Walking (1995)\n",
      "11                       Usual Suspects, The (1995)\n",
      "116                                Rock, The (1996)\n",
      "474                            Trainspotting (1996)\n",
      "120                   Independence Day (ID4) (1996)\n",
      "150    Willy Wonka and the Chocolate Factory (1971)\n",
      "173                  Raiders of the Lost Ark (1981)\n",
      "24                             Birdcage, The (1996)\n",
      "63                 Shawshank Redemption, The (1994)\n",
      "237                          Raising Arizona (1987)\n",
      "Name: title, dtype: object\n"
     ]
    }
   ],
   "source": [
    "recommender('Fargo', mat_movies_users, model_knn,20)"
   ]
  },
  {
   "cell_type": "code",
   "execution_count": null,
   "metadata": {},
   "outputs": [],
   "source": []
  }
 ],
 "metadata": {
  "kernelspec": {
   "display_name": "Python 3",
   "language": "python",
   "name": "python3"
  },
  "language_info": {
   "codemirror_mode": {
    "name": "ipython",
    "version": 3
   },
   "file_extension": ".py",
   "mimetype": "text/x-python",
   "name": "python",
   "nbconvert_exporter": "python",
   "pygments_lexer": "ipython3",
   "version": "3.8.2"
  }
 },
 "nbformat": 4,
 "nbformat_minor": 4
}
